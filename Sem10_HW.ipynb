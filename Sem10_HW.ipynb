{
  "nbformat": 4,
  "nbformat_minor": 0,
  "metadata": {
    "colab": {
      "provenance": []
    },
    "kernelspec": {
      "name": "python3",
      "display_name": "Python 3"
    },
    "language_info": {
      "name": "python"
    }
  },
  "cells": [
    {
      "cell_type": "code",
      "execution_count": 25,
      "metadata": {
        "colab": {
          "base_uri": "https://localhost:8080/"
        },
        "id": "lTNIUZXGpGlS",
        "outputId": "5eacef16-ec4e-471b-9770-70be9c184c32"
      },
      "outputs": [
        {
          "output_type": "stream",
          "name": "stdout",
          "text": [
            "       one hot      \n",
            "whoAmI   human robot\n",
            "0            0     1\n",
            "1            1     0\n",
            "2            1     0\n",
            "3            0     1\n",
            "4            1     0\n",
            "5            1     0\n",
            "6            1     0\n",
            "7            0     1\n",
            "8            0     1\n",
            "9            0     1\n",
            "10           0     1\n",
            "11           1     0\n",
            "12           1     0\n",
            "13           0     1\n",
            "14           1     0\n",
            "15           1     0\n",
            "16           0     1\n",
            "17           0     1\n",
            "18           0     1\n",
            "19           1     0\n"
          ]
        }
      ],
      "source": [
        "import pandas as pd \n",
        "import numpy as np \n",
        "import random\n",
        " \n",
        "lst = ['robot'] * 10\n",
        "lst += ['human'] * 10\n",
        "random.shuffle(lst)\n",
        "data = pd.DataFrame({'whoAmI': lst})\n",
        " \n",
        "data['one hot'] = 1\n",
        "data.set_index([data.index, 'whoAmI'], inplace=True)\n",
        "data = data.unstack(level=-1, fill_value = 0).astype(int)\n",
        "print(data)"
      ]
    }
  ]
}